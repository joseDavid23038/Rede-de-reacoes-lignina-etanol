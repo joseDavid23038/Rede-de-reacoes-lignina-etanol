{
 "cells": [
  {
   "cell_type": "code",
   "execution_count": 46,
   "metadata": {},
   "outputs": [],
   "source": [
    "import dscribe\n",
    "from ase.build import molecule\n",
    "from dscribe.descriptors import CoulombMatrix\n",
    "\n"
   ]
  },
  {
   "cell_type": "code",
   "execution_count": 51,
   "metadata": {},
   "outputs": [
    {
     "name": "stdout",
     "output_type": "stream",
     "text": [
      "Coulomb Matrix for Methanol:\n",
      "[73.51669472 33.73297539  8.24741496  3.96011613  3.808905    3.808905\n",
      " 33.73297539 36.8581052   3.08170819  5.50690929  5.47078813  5.47078813\n",
      "  8.24741496  3.08170819  0.5         0.35443545  0.42555057  0.42555057\n",
      "  3.96011613  5.50690929  0.35443545  0.5         0.56354208  0.56354208\n",
      "  3.808905    5.47078813  0.42555057  0.56354208  0.5         0.56068143\n",
      "  3.808905    5.47078813  0.42555057  0.56354208  0.56068143  0.5       ]\n"
     ]
    }
   ],
   "source": [
    "\n",
    "methanol = molecule(\"CH3OH\")\n",
    "\n",
    "calc = CoulombMatrix(\n",
    "    n_atoms_max=len(methanol),\n",
    "    permutation=\"sorted_l2\",\n",
    ")\n",
    "\n",
    "# Get the Coulomb matrix for methanol\n",
    "coulomb_matrix = calc.create(methanol)\n",
    "\n",
    "# Display the Coulomb matrix\n",
    "print(\"Coulomb Matrix for Methanol:\")\n",
    "print(coulomb_matrix)\n"
   ]
  }
 ],
 "metadata": {
  "kernelspec": {
   "display_name": "Python 3",
   "language": "python",
   "name": "python3"
  },
  "language_info": {
   "codemirror_mode": {
    "name": "ipython",
    "version": 3
   },
   "file_extension": ".py",
   "mimetype": "text/x-python",
   "name": "python",
   "nbconvert_exporter": "python",
   "pygments_lexer": "ipython3",
   "version": "3.11.8"
  }
 },
 "nbformat": 4,
 "nbformat_minor": 2
}
