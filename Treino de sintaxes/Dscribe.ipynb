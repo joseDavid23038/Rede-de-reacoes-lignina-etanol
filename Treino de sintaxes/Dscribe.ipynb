{
 "cells": [
  {
   "cell_type": "code",
   "execution_count": 2,
   "metadata": {},
   "outputs": [],
   "source": [
    "from dscribe.descriptors import CoulombMatrix\n",
    "from rdkit import Chem\n",
    "\n",
    "# Setting up the CM descriptor\n",
    "cm = CoulombMatrix(n_atoms_max=6)"
   ]
  },
  {
   "cell_type": "code",
   "execution_count": 7,
   "metadata": {},
   "outputs": [
    {
     "ename": "NameError",
     "evalue": "name 'molecule' is not defined",
     "output_type": "error",
     "traceback": [
      "\u001b[1;31m---------------------------------------------------------------------------\u001b[0m",
      "\u001b[1;31mNameError\u001b[0m                                 Traceback (most recent call last)",
      "Cell \u001b[1;32mIn[7], line 2\u001b[0m\n\u001b[0;32m      1\u001b[0m \u001b[38;5;66;03m# Create output for multiple system\u001b[39;00m\n\u001b[1;32m----> 2\u001b[0m samples \u001b[38;5;241m=\u001b[39m [\u001b[43mmolecule\u001b[49m(\u001b[38;5;124m\"\u001b[39m\u001b[38;5;124mH2O\u001b[39m\u001b[38;5;124m\"\u001b[39m), molecule(\u001b[38;5;124m\"\u001b[39m\u001b[38;5;124mNO2\u001b[39m\u001b[38;5;124m\"\u001b[39m), molecule(\u001b[38;5;124m\"\u001b[39m\u001b[38;5;124mCO2\u001b[39m\u001b[38;5;124m\"\u001b[39m)]\n\u001b[0;32m      3\u001b[0m coulomb_matrices \u001b[38;5;241m=\u001b[39m cm\u001b[38;5;241m.\u001b[39mcreate(samples)            \u001b[38;5;66;03m# Serial\u001b[39;00m\n\u001b[0;32m      4\u001b[0m coulomb_matrices \u001b[38;5;241m=\u001b[39m cm\u001b[38;5;241m.\u001b[39mcreate(samples, n_jobs\u001b[38;5;241m=\u001b[39m\u001b[38;5;241m2\u001b[39m)  \u001b[38;5;66;03m# Parallel\u001b[39;00m\n",
      "\u001b[1;31mNameError\u001b[0m: name 'molecule' is not defined"
     ]
    }
   ],
   "source": [
    "# Create output for multiple system\n",
    "samples = [molecule(\"H2O\"), molecule(\"NO2\"), molecule(\"CO2\")]\n",
    "coulomb_matrices = cm.create(samples)            # Serial\n",
    "coulomb_matrices = cm.create(samples, n_jobs=2)  # Parallel"
   ]
  },
  {
   "cell_type": "code",
   "execution_count": 9,
   "metadata": {},
   "outputs": [
    {
     "name": "stdout",
     "output_type": "stream",
     "text": [
      "Coulomb Matrix for Methanol:\n",
      "[73.51669472 33.73297539  8.24741496  3.96011613  3.808905    3.808905\n",
      " 33.73297539 36.8581052   3.08170819  5.50690929  5.47078813  5.47078813\n",
      "  8.24741496  3.08170819  0.5         0.35443545  0.42555057  0.42555057\n",
      "  3.96011613  5.50690929  0.35443545  0.5         0.56354208  0.56354208\n",
      "  3.808905    5.47078813  0.42555057  0.56354208  0.5         0.56068143\n",
      "  3.808905    5.47078813  0.42555057  0.56354208  0.56068143  0.5       ]\n"
     ]
    }
   ],
   "source": [
    "import dscribe\n",
    "from ase.build import molecule\n",
    "\n",
    "# Create an ASE Atoms object for methanol\n",
    "methanol = molecule(\"CH3OH\")\n",
    "\n",
    "# Set up the calculator with the desired parameters for the Coulomb matrix\n",
    "calc = dscribe.descriptors.CoulombMatrix(\n",
    "    n_atoms_max=len(methanol),\n",
    "    permutation=\"sorted_l2\",\n",
    ")\n",
    "\n",
    "# Get the Coulomb matrix for methanol\n",
    "coulomb_matrix = calc.create(methanol)\n",
    "\n",
    "# Display the Coulomb matrix\n",
    "print(\"Coulomb Matrix for Methanol:\")\n",
    "print(coulomb_matrix)\n"
   ]
  }
 ],
 "metadata": {
  "kernelspec": {
   "display_name": "Python 3",
   "language": "python",
   "name": "python3"
  },
  "language_info": {
   "codemirror_mode": {
    "name": "ipython",
    "version": 3
   },
   "file_extension": ".py",
   "mimetype": "text/x-python",
   "name": "python",
   "nbconvert_exporter": "python",
   "pygments_lexer": "ipython3",
   "version": "3.11.8"
  }
 },
 "nbformat": 4,
 "nbformat_minor": 2
}
