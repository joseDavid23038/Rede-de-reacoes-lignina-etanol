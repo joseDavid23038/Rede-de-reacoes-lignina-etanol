{
 "cells": [
  {
   "cell_type": "code",
   "execution_count": 1,
   "metadata": {},
   "outputs": [],
   "source": [
    "from rdkit import Chem \n",
    "import pubchempy as pcp"
   ]
  },
  {
   "cell_type": "markdown",
   "metadata": {},
   "source": [
    "A partir da biblioteca pubchempy, é possível pesquisar smiles canônicos de compostos apenas usando seus nomes. A função get_compounds recebe o nome do composto e o que deve ser buscado dele(nesse caso, o nome). Como a função retorna uma lista de 1 item, é necessário pegar apenas o primeiro item[0]. Pra obter o nome, basta usar o \"canonical_smile\" para pegar esse atriboto da classe composto."
   ]
  },
  {
   "cell_type": "code",
   "execution_count": 2,
   "metadata": {},
   "outputs": [
    {
     "name": "stdout",
     "output_type": "stream",
     "text": [
      "O eteno é o composto Compound(6325) e tem por SMILE C=C\n"
     ]
    }
   ],
   "source": [
    "\n",
    "eteno = pcp.get_compounds(\"ethene\",\"name\")[0]\n",
    "smile_eteno = eteno.canonical_smiles\n",
    "#também podemos fazer isso:\n",
    "ethene = pcp.get_compounds(\"ethene\",\"name\")[0].canonical_smiles\n",
    "\n",
    "print(f'O eteno é o composto {eteno} e tem por SMILE {smile_eteno}')\n"
   ]
  },
  {
   "cell_type": "markdown",
   "metadata": {},
   "source": [
    "Com a função MolFromSmile da classe chem do rdkit, e possível fazer o plot dessa molécula"
   ]
  },
  {
   "cell_type": "code",
   "execution_count": 3,
   "metadata": {},
   "outputs": [
    {
     "data": {
      "image/png": "[encoded data removed]",
      "text/plain": [
       "<rdkit.Chem.rdchem.Mol at 0x23f340459a0>"
      ]
     },
     "execution_count": 3,
     "metadata": {},
     "output_type": "execute_result"
    }
   ],
   "source": [
    "alcool_conifero = pcp.get_compounds(\"coniferyl alcohol\",\"name\")[0].canonical_smiles\n",
    "imagem = Chem.MolFromSmiles(alcool_conifero)\n",
    "imagem"
   ]
  },
  {
   "cell_type": "code",
   "execution_count": 4,
   "metadata": {},
   "outputs": [],
   "source": [
    "from rdkit import Chem\n",
    "from rdkit.Chem import Draw\n",
    "from rdkit.Chem.Draw import IPythonConsole\n",
    "from rdkit.Chem import Descriptors\n",
    "from rdkit.Chem import AllChem\n",
    "from rdkit.Chem import DataStructs\n",
    "import numpy as np\n"
   ]
  },
  {
   "cell_type": "code",
   "execution_count": 5,
   "metadata": {},
   "outputs": [
    {
     "data": {
      "image/png": "[encoded data removed]",
      "text/plain": [
       "<rdkit.Chem.rdchem.Mol at 0x23f3446c6d0>"
      ]
     },
     "metadata": {},
     "output_type": "display_data"
    },
    {
     "name": "stdout",
     "output_type": "stream",
     "text": [
      "CCN\n"
     ]
    }
   ],
   "source": [
    "mol = Chem.MolFromSmiles(\"CCN\")\n",
    "\n",
    "smile = Chem.MolToSmiles(mol)\n",
    "\n",
    "display(mol)\n",
    "print(smile)"
   ]
  },
  {
   "cell_type": "code",
   "execution_count": 6,
   "metadata": {},
   "outputs": [
    {
     "name": "stdout",
     "output_type": "stream",
     "text": [
      "45.084999999999994\n"
     ]
    }
   ],
   "source": [
    "massa_molecular = Descriptors.MolWt(mol)\n",
    "\n",
    "print(massa_molecular)"
   ]
  },
  {
   "cell_type": "markdown",
   "metadata": {},
   "source": []
  },
  {
   "cell_type": "code",
   "execution_count": 7,
   "metadata": {},
   "outputs": [
    {
     "data": {
      "image/png": "[encoded data removed]",
      "text/plain": [
       "<IPython.core.display.Image object>"
      ]
     },
     "execution_count": 7,
     "metadata": {},
     "output_type": "execute_result"
    }
   ],
   "source": [
    "smiles = [\"CCO\",\"C(C=O)C\",\"CCN\",\"OC(CN)C\"]\n",
    "\n",
    "mols = []\n",
    "\n",
    "for i in smiles:\n",
    "    mol = Chem.MolFromSmiles(i)\n",
    "    mols.append(mol)\n",
    "\n",
    "\n",
    "Draw.MolsToGridImage(mols, molsPerRow= 4) # se o molsperrow nao for definido, será apenas 3"
   ]
  },
  {
   "cell_type": "code",
   "execution_count": 8,
   "metadata": {},
   "outputs": [
    {
     "name": "stdout",
     "output_type": "stream",
     "text": [
      "False\n",
      "False\n",
      "True\n",
      "True\n"
     ]
    }
   ],
   "source": [
    "padrao = Chem.MolFromSmiles(\"N\")\n",
    "\n",
    "for i in mols:\n",
    "    print(i.HasSubstructMatch(padrao))"
   ]
  },
  {
   "cell_type": "code",
   "execution_count": 9,
   "metadata": {},
   "outputs": [
    {
     "name": "stdout",
     "output_type": "stream",
     "text": [
      "(array([  1,  33,  80, 116, 147, 227, 283, 807, 885, 913, 981], dtype=int64),)\n"
     ]
    }
   ],
   "source": [
    "fp=AllChem.GetMorganFingerprintAsBitVect(mol,4, nBits = 1024)\n",
    "fp_arr = np.zeros((1,))\n",
    "DataStructs.ConvertToNumpyArray(fp,fp_arr)\n",
    "print(np.nonzero(fp_arr))"
   ]
  },
  {
   "cell_type": "code",
   "execution_count": 10,
   "metadata": {},
   "outputs": [
    {
     "data": {
      "text/plain": [
       "True"
      ]
     },
     "execution_count": 10,
     "metadata": {},
     "output_type": "execute_result"
    }
   ],
   "source": [
    "mol.HasSubstructMatch(mol)"
   ]
  },
  {
   "cell_type": "code",
   "execution_count": 20,
   "metadata": {},
   "outputs": [],
   "source": [
    "from rdkit import Chem\n",
    "import pubchempy as pbp\n",
    "\n",
    "\n",
    "def presenca_de_subsestrutura(substancias,padrao):\n",
    "    subsestrutura = Chem.MolFromSmiles(padrao)\n",
    "    mols = []\n",
    "    for i in substancias:\n",
    "        composto = pbp.get_compounds(i,\"name\")[0]\n",
    "        smile = composto.canonical_smiles\n",
    "        mol = Chem.MolFromSmiles(smile)\n",
    "        if mol.HasSubstructMatch(subsestrutura) == True:\n",
    "            print(f'O composto {i} tem a subsestrutura {subsestrutura}')\n",
    "        else:\n",
    "            print(f'O composto {i} não tem a subsestrutura {subsestrutura}')\n",
    "\n"
   ]
  },
  {
   "cell_type": "code",
   "execution_count": 21,
   "metadata": {},
   "outputs": [
    {
     "name": "stdout",
     "output_type": "stream",
     "text": [
      "O composto COC não tem a subsestrutura <rdkit.Chem.rdchem.Mol object at 0x0000023F357E9FC0>\n",
      "O composto KCl tem a subsestrutura <rdkit.Chem.rdchem.Mol object at 0x0000023F357E9FC0>\n"
     ]
    }
   ],
   "source": [
    "presenca_de_subsestrutura([\"COC\",\"KCl\"],\"Cl\")"
   ]
  }
 ],
 "metadata": {
  "kernelspec": {
   "display_name": "Python 3",
   "language": "python",
   "name": "python3"
  },
  "language_info": {
   "codemirror_mode": {
    "name": "ipython",
    "version": 3
   },
   "file_extension": ".py",
   "mimetype": "text/x-python",
   "name": "python",
   "nbconvert_exporter": "python",
   "pygments_lexer": "ipython3",
   "version": "3.11.8"
  }
 },
 "nbformat": 4,
 "nbformat_minor": 2
}
