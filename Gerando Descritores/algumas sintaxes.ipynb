{
 "cells": [
  {
   "cell_type": "code",
   "execution_count": 2,
   "metadata": {},
   "outputs": [
    {
     "name": "stdout",
     "output_type": "stream",
     "text": [
      "[0.1101597 0.4308712 0.999933  ... 0.        0.        0.       ]\n"
     ]
    }
   ],
   "source": [
    "from rdkit import Chem\n",
    "from rdkit.Chem import AllChem\n",
    "from ase.io import read\n",
    "from dscribe.descriptors import SOAP\n",
    "\n",
    "mol = Chem.MolFromSmiles(\"O\")\n",
    "mol = Chem.AddHs(mol)\n",
    "AllChem.EmbedMolecule(mol)\n",
    "Chem.MolToMolFile(mol,\"agua.mol\")\n",
    "\n",
    "\n",
    "\n",
    "# Load molecular structure from a mol file\n",
    "molecule = read('butano.mol')\n",
    "\n",
    "# Set up the SOAP descriptor\n",
    "soap = SOAP(\n",
    "    species=['H', 'C', 'O', 'N'],  # Specify atomic species\n",
    "    periodic=False,  # Set to True if the system is periodic\n",
    "    r_cut=5.0,  # Cutoff radius for atomic environments\n",
    "    n_max=8,  # Maximum radial quantum number\n",
    "    l_max=6,  # Maximum angular quantum number\n",
    ")\n",
    "\n",
    "# Calculate the SOAP descriptor\n",
    "soap_descriptor = soap.create(molecule)\n",
    "\n",
    "# Print or use the SOAP descriptor as needed\n",
    "print(sum(soap_descriptor))"
   ]
  },
  {
   "cell_type": "code",
   "execution_count": 12,
   "metadata": {},
   "outputs": [
    {
     "data": {
      "text/plain": [
       "9741.998779663987"
      ]
     },
     "execution_count": 12,
     "metadata": {},
     "output_type": "execute_result"
    }
   ],
   "source": [
    "import numpy as np \n",
    "sum(np.array(sum(soap_descriptor))**2)**(1/2)"
   ]
  },
  {
   "cell_type": "code",
   "execution_count": null,
   "metadata": {},
   "outputs": [],
   "source": [
    "import os\n",
    "\n",
    "pasta2 = 'C:\\\\Users\\\\jose23038\\\\Downloads\\\\Iniciação a Pesquisa III\\\\RDKit_ASE - Mols\\\\QM9'\n",
    "pasta1 = '..\\\\Arquivos Mol\\\\QM9'\n",
    "\n",
    "\n",
    "# Convertendo caminho relativo para absoluto\n",
    "pasta1 = os.path.abspath(pasta1)\n",
    "pasta2 = os.path.abspath(pasta2)\n",
    "\n",
    "arquivos_pasta1 = set(os.listdir(pasta1))\n",
    "arquivos_pasta2 = set(os.listdir(pasta2))\n",
    "\n",
    "arquivos_faltando_em_pasta1 = arquivos_pasta2 - arquivos_pasta1\n",
    "arquivos_faltando_em_pasta2 = arquivos_pasta1 - arquivos_pasta2\n",
    "\n",
    "print(len(arquivos_pasta2)-len(arquivos_pasta1))\n",
    "#for arquivo in arquivos_faltando_em_pasta2:\n",
    "    #print(arquivo)\n"
   ]
  }
 ],
 "metadata": {
  "kernelspec": {
   "display_name": "Python 3.10.8 64-bit",
   "language": "python",
   "name": "python3"
  },
  "language_info": {
   "codemirror_mode": {
    "name": "ipython",
    "version": 3
   },
   "file_extension": ".py",
   "mimetype": "text/x-python",
   "name": "python",
   "nbconvert_exporter": "python",
   "pygments_lexer": "ipython3",
   "version": "3.10.8"
  },
  "orig_nbformat": 4,
  "vscode": {
   "interpreter": {
    "hash": "26de051ba29f2982a8de78e945f0abaf191376122a1563185a90213a26c5da77"
   }
  }
 },
 "nbformat": 4,
 "nbformat_minor": 2
}
